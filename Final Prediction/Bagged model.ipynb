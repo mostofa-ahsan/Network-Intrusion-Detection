{
 "cells": [
  {
   "cell_type": "code",
   "execution_count": 1,
   "metadata": {},
   "outputs": [],
   "source": [
    "import warnings\n",
    "warnings.filterwarnings(\"ignore\")"
   ]
  },
  {
   "cell_type": "code",
   "execution_count": 2,
   "metadata": {},
   "outputs": [
    {
     "name": "stderr",
     "output_type": "stream",
     "text": [
      "Using TensorFlow backend.\n"
     ]
    }
   ],
   "source": [
    "from sklearn.utils import resample\n",
    "from keras.utils import to_categorical\n",
    "from keras.models import Sequential\n",
    "from keras.layers import Dense,LSTM,MaxPooling2D,MaxPooling1D,Convolution1D\n",
    "from matplotlib import pyplot\n",
    "from numpy import mean\n",
    "from numpy import std\n",
    "import numpy as np\n",
    "from sklearn.metrics import accuracy_score\n",
    "import numpy\n",
    "from numpy import array\n",
    "from numpy import argmax\n",
    "from keras.models import load_model\n",
    "from keras.layers import Dense,Activation , Dropout,GRU, LSTM, Bidirectional, Flatten,Conv1D"
   ]
  },
  {
   "cell_type": "code",
   "execution_count": 3,
   "metadata": {},
   "outputs": [],
   "source": [
    "import pickle\n",
    "with open('data.pkl', 'rb') as f:\n",
    "    data = pickle.load(f)\n",
    "x_train=data[0]\n",
    "y_train=data[1]\n",
    "x_test=data[2]\n",
    "y_test=data[3]"
   ]
  },
  {
   "cell_type": "code",
   "execution_count": 4,
   "metadata": {},
   "outputs": [],
   "source": [
    "lstm_output_size=100"
   ]
  },
  {
   "cell_type": "code",
   "execution_count": 5,
   "metadata": {},
   "outputs": [],
   "source": [
    "def model_hybrid_1(x_train,y_train):\n",
    "    cnn = Sequential()\n",
    "    cnn.add(Convolution1D(48, 3, border_mode=\"same\",activation=\"relu\",input_shape=(42, 1)))\n",
    "    cnn.add(Convolution1D(48, 3, border_mode=\"same\", activation=\"relu\"))\n",
    "    cnn.add(MaxPooling1D(pool_length=(2)))\n",
    "    cnn.add(Convolution1D(16, 3, border_mode=\"same\", activation=\"relu\"))\n",
    "    cnn.add(Convolution1D(16, 3, border_mode=\"same\", activation=\"relu\"))\n",
    "    cnn.add(MaxPooling1D(pool_length=(2)))\n",
    "    cnn.add(LSTM(lstm_output_size))\n",
    "    cnn.add(Dropout(0.1))\n",
    "    cnn.add(Dense(5, activation=\"softmax\"))\n",
    "    cnn.compile(loss=\"categorical_crossentropy\", optimizer=\"adam\",metrics=['accuracy'])\n",
    "    cnn.fit(x_train.reshape(12162, 42,1), y_train.reshape(12162,5), nb_epoch=10,verbose=1)\n",
    "    cnn.save('hybrid_1.h5')\n",
    "    return cnn"
   ]
  },
  {
   "cell_type": "code",
   "execution_count": 6,
   "metadata": {},
   "outputs": [],
   "source": [
    "def model_hybrid_2(x_train,y_train):\n",
    "    cnn = Sequential()\n",
    "    cnn.add(Convolution1D(48, 3, border_mode=\"same\",activation=\"relu\",input_shape=(42, 1)))\n",
    "    cnn.add(Convolution1D(48, 3, border_mode=\"same\", activation=\"relu\"))\n",
    "    cnn.add(MaxPooling1D(pool_length=(2)))\n",
    "    cnn.add(Convolution1D(16, 3, border_mode=\"same\", activation=\"relu\"))\n",
    "    cnn.add(Convolution1D(16, 3, border_mode=\"same\", activation=\"relu\"))\n",
    "    cnn.add(MaxPooling1D(pool_length=(2)))\n",
    "    cnn.add(LSTM(lstm_output_size))\n",
    "    cnn.add(Dropout(0.1))\n",
    "    cnn.add(Dense(5, activation=\"softmax\"))\n",
    "    cnn.compile(loss=\"categorical_crossentropy\", optimizer=\"adam\",metrics=['accuracy'])\n",
    "    cnn.fit(x_train.reshape(12162, 42,1), y_train.reshape(12162,5), nb_epoch=15,verbose=1)\n",
    "    cnn.save('hybrid_2.h5')\n",
    "    return cnn"
   ]
  },
  {
   "cell_type": "code",
   "execution_count": 7,
   "metadata": {},
   "outputs": [],
   "source": [
    "def model_hybrid_3(x_train,y_train):\n",
    "    cnn = Sequential()\n",
    "    cnn.add(Convolution1D(48, 3, border_mode=\"same\",activation=\"relu\",input_shape=(42, 1)))\n",
    "    cnn.add(Convolution1D(48, 3, border_mode=\"same\", activation=\"relu\"))\n",
    "    cnn.add(MaxPooling1D(pool_length=(2)))\n",
    "    cnn.add(Convolution1D(16, 3, border_mode=\"same\", activation=\"relu\"))\n",
    "    cnn.add(Convolution1D(16, 3, border_mode=\"same\", activation=\"relu\"))\n",
    "    cnn.add(MaxPooling1D(pool_length=(2)))\n",
    "    cnn.add(LSTM(lstm_output_size))\n",
    "    cnn.add(Dropout(0.1))\n",
    "    cnn.add(Dense(5, activation=\"softmax\"))\n",
    "    cnn.compile(loss=\"categorical_crossentropy\", optimizer=\"adam\",metrics=['accuracy'])\n",
    "    cnn.fit(x_train.reshape(12162, 42,1), y_train.reshape(12162,5), nb_epoch=12,verbose=1)\n",
    "    cnn.save('hybrid_3.h5')\n",
    "    return cnn"
   ]
  },
  {
   "cell_type": "code",
   "execution_count": 8,
   "metadata": {},
   "outputs": [],
   "source": [
    "def model_biLSTM(x_train,y_train):\n",
    "    biLSTM = Sequential()\n",
    "    biLSTM.add(Bidirectional(LSTM(100, activation='relu', return_sequences=True, input_dim = 42)))\n",
    "    biLSTM.add(Bidirectional(LSTM(100, activation='relu')))\n",
    "    biLSTM.add(Dense(5, activation = 'softmax'))\n",
    "    biLSTM.compile(loss='categorical_crossentropy',optimizer='adam',metrics=['accuracy'])\n",
    "    # fit model\n",
    "    biLSTM.fit(x_train.reshape(12162,1, 42), y_train.reshape(12162,5), epochs=40, verbose=1,batch_size = 50)\n",
    "    biLSTM.save('biLSTM.h5')\n",
    "    return biLSTM"
   ]
  },
  {
   "cell_type": "code",
   "execution_count": 9,
   "metadata": {},
   "outputs": [],
   "source": [
    "def model_gru(x_train,_y_train):\n",
    "    gru = Sequential()\n",
    "    gru.add(GRU(100, activation='relu', return_sequences=True, input_dim = 42))\n",
    "    gru.add(GRU(100, activation='relu'))\n",
    "    gru.add(Dense(5, activation = 'softmax'))\n",
    "    gru.compile(loss='categorical_crossentropy',optimizer='adam',metrics=['accuracy'])\n",
    "    # fit model\n",
    "    gru.fit(x_train.reshape(12162,1, 42), y_train.reshape(12162,5), epochs=30, verbose=1,batch_size = 50)\n",
    "    return gru"
   ]
  },
  {
   "cell_type": "code",
   "execution_count": 10,
   "metadata": {},
   "outputs": [
    {
     "name": "stdout",
     "output_type": "stream",
     "text": [
      "Epoch 1/10\n",
      "12162/12162 [==============================] - 4s 361us/step - loss: 0.2908 - accuracy: 0.9077\n",
      "Epoch 2/10\n",
      "12162/12162 [==============================] - 4s 342us/step - loss: 0.1415 - accuracy: 0.9538\n",
      "Epoch 3/10\n",
      "12162/12162 [==============================] - 4s 338us/step - loss: 0.0781 - accuracy: 0.9734\n",
      "Epoch 4/10\n",
      "12162/12162 [==============================] - 4s 351us/step - loss: 0.0504 - accuracy: 0.9834\n",
      "Epoch 5/10\n",
      "12162/12162 [==============================] - 4s 347us/step - loss: 0.0360 - accuracy: 0.9882\n",
      "Epoch 6/10\n",
      "12162/12162 [==============================] - 4s 341us/step - loss: 0.0310 - accuracy: 0.9901\n",
      "Epoch 7/10\n",
      "12162/12162 [==============================] - 4s 348us/step - loss: 0.0253 - accuracy: 0.9910\n",
      "Epoch 8/10\n",
      "12162/12162 [==============================] - 4s 345us/step - loss: 0.0312 - accuracy: 0.9892\n",
      "Epoch 9/10\n",
      "12162/12162 [==============================] - 4s 351us/step - loss: 0.0247 - accuracy: 0.9915\n",
      "Epoch 10/10\n",
      "12162/12162 [==============================] - 4s 351us/step - loss: 0.0258 - accuracy: 0.9905\n",
      "Epoch 1/15\n",
      "12162/12162 [==============================] - 5s 380us/step - loss: 0.2827 - accuracy: 0.9100\n",
      "Epoch 2/15\n",
      "12162/12162 [==============================] - 4s 353us/step - loss: 0.1148 - accuracy: 0.9627\n",
      "Epoch 3/15\n",
      "12162/12162 [==============================] - 4s 344us/step - loss: 0.0585 - accuracy: 0.9808\n",
      "Epoch 4/15\n",
      "12162/12162 [==============================] - 4s 340us/step - loss: 0.0409 - accuracy: 0.9856\n",
      "Epoch 5/15\n",
      "12162/12162 [==============================] - 4s 345us/step - loss: 0.0270 - accuracy: 0.9905\n",
      "Epoch 6/15\n",
      "12162/12162 [==============================] - 4s 343us/step - loss: 0.0255 - accuracy: 0.9904\n",
      "Epoch 7/15\n",
      "12162/12162 [==============================] - 4s 346us/step - loss: 0.0230 - accuracy: 0.9914\n",
      "Epoch 8/15\n",
      "12162/12162 [==============================] - 4s 346us/step - loss: 0.0218 - accuracy: 0.9919\n",
      "Epoch 9/15\n",
      "12162/12162 [==============================] - 4s 345us/step - loss: 0.0216 - accuracy: 0.9921\n",
      "Epoch 10/15\n",
      "12162/12162 [==============================] - 4s 358us/step - loss: 0.0160 - accuracy: 0.9933\n",
      "Epoch 11/15\n",
      "12162/12162 [==============================] - 4s 355us/step - loss: 0.0145 - accuracy: 0.9942\n",
      "Epoch 12/15\n",
      "12162/12162 [==============================] - 4s 314us/step - loss: 0.0150 - accuracy: 0.9948\n",
      "Epoch 13/15\n",
      "12162/12162 [==============================] - 3s 267us/step - loss: 0.0196 - accuracy: 0.9932\n",
      "Epoch 14/15\n",
      "12162/12162 [==============================] - 3s 238us/step - loss: 0.0172 - accuracy: 0.9931\n",
      "Epoch 15/15\n",
      "12162/12162 [==============================] - 3s 231us/step - loss: 0.0224 - accuracy: 0.9923\n",
      "Epoch 1/12\n",
      "12162/12162 [==============================] - 5s 382us/step - loss: 0.3174 - accuracy: 0.8982\n",
      "Epoch 2/12\n",
      "12162/12162 [==============================] - 4s 363us/step - loss: 0.1692 - accuracy: 0.9457\n",
      "Epoch 3/12\n",
      "12162/12162 [==============================] - 5s 379us/step - loss: 0.1021 - accuracy: 0.9669\n",
      "Epoch 4/12\n",
      "12162/12162 [==============================] - 5s 376us/step - loss: 0.0595 - accuracy: 0.9798\n",
      "Epoch 5/12\n",
      "12162/12162 [==============================] - 5s 382us/step - loss: 0.0392 - accuracy: 0.9873\n",
      "Epoch 6/12\n",
      "12162/12162 [==============================] - 5s 380us/step - loss: 0.0332 - accuracy: 0.9887\n",
      "Epoch 7/12\n",
      "12162/12162 [==============================] - 5s 376us/step - loss: 0.0284 - accuracy: 0.9890\n",
      "Epoch 8/12\n",
      "12162/12162 [==============================] - 5s 374us/step - loss: 0.0292 - accuracy: 0.9905\n",
      "Epoch 9/12\n",
      "12162/12162 [==============================] - 4s 365us/step - loss: 0.0241 - accuracy: 0.9914\n",
      "Epoch 10/12\n",
      "12162/12162 [==============================] - 5s 379us/step - loss: 0.0209 - accuracy: 0.9919\n",
      "Epoch 11/12\n",
      "12162/12162 [==============================] - 5s 378us/step - loss: 0.0208 - accuracy: 0.9915\n",
      "Epoch 12/12\n",
      "12162/12162 [==============================] - 5s 376us/step - loss: 0.0166 - accuracy: 0.9936\n",
      "Epoch 1/30\n",
      "12162/12162 [==============================] - 1s 110us/step - loss: 70.4448 - accuracy: 0.9069\n",
      "Epoch 2/30\n",
      "12162/12162 [==============================] - 1s 71us/step - loss: 54.1668 - accuracy: 0.8917\n",
      "Epoch 3/30\n",
      "12162/12162 [==============================] - 1s 66us/step - loss: 63.1833 - accuracy: 0.9263\n",
      "Epoch 4/30\n",
      "12162/12162 [==============================] - 1s 66us/step - loss: 28.4095 - accuracy: 0.9310\n",
      "Epoch 5/30\n",
      "12162/12162 [==============================] - 1s 68us/step - loss: 40.2704 - accuracy: 0.9366\n",
      "Epoch 6/30\n",
      "12162/12162 [==============================] - 1s 67us/step - loss: 32.4262 - accuracy: 0.9408\n",
      "Epoch 7/30\n",
      "12162/12162 [==============================] - 1s 67us/step - loss: 44.4369 - accuracy: 0.9472\n",
      "Epoch 8/30\n",
      "12162/12162 [==============================] - 1s 68us/step - loss: 27.2571 - accuracy: 0.9541: 0s - loss: 24.6942 - accuracy: \n",
      "Epoch 9/30\n",
      "12162/12162 [==============================] - 1s 72us/step - loss: 60.6849 - accuracy: 0.9579\n",
      "Epoch 10/30\n",
      "12162/12162 [==============================] - 1s 68us/step - loss: 50.4838 - accuracy: 0.9510\n",
      "Epoch 11/30\n",
      "12162/12162 [==============================] - 1s 66us/step - loss: 23.4446 - accuracy: 0.9595\n",
      "Epoch 12/30\n",
      "12162/12162 [==============================] - 1s 68us/step - loss: 30.3722 - accuracy: 0.9688\n",
      "Epoch 13/30\n",
      "12162/12162 [==============================] - 1s 68us/step - loss: 36.7716 - accuracy: 0.9595\n",
      "Epoch 14/30\n",
      "12162/12162 [==============================] - 1s 66us/step - loss: 41.5046 - accuracy: 0.9556\n",
      "Epoch 15/30\n",
      "12162/12162 [==============================] - 1s 71us/step - loss: 11.1477 - accuracy: 0.9721\n",
      "Epoch 16/30\n",
      "12162/12162 [==============================] - 1s 69us/step - loss: 7.7620 - accuracy: 0.9722\n",
      "Epoch 17/30\n",
      "12162/12162 [==============================] - 1s 68us/step - loss: 21.8675 - accuracy: 0.9753\n",
      "Epoch 18/30\n",
      "12162/12162 [==============================] - 1s 68us/step - loss: 22.6742 - accuracy: 0.9739\n",
      "Epoch 19/30\n",
      "12162/12162 [==============================] - 1s 65us/step - loss: 9.5852 - accuracy: 0.9734\n",
      "Epoch 20/30\n",
      "12162/12162 [==============================] - 1s 66us/step - loss: 9.3111 - accuracy: 0.9779\n",
      "Epoch 21/30\n",
      "12162/12162 [==============================] - 1s 64us/step - loss: 4.1228 - accuracy: 0.9780\n",
      "Epoch 22/30\n",
      "12162/12162 [==============================] - 1s 48us/step - loss: 5.1496 - accuracy: 0.9821\n",
      "Epoch 23/30\n",
      "12162/12162 [==============================] - 1s 45us/step - loss: 9.4740 - accuracy: 0.9817\n",
      "Epoch 24/30\n",
      "12162/12162 [==============================] - 1s 44us/step - loss: 4.1158 - accuracy: 0.9786\n",
      "Epoch 25/30\n",
      "12162/12162 [==============================] - 1s 43us/step - loss: 1.9469 - accuracy: 0.9861\n",
      "Epoch 26/30\n",
      "12162/12162 [==============================] - 1s 45us/step - loss: 1.4621 - accuracy: 0.9840\n",
      "Epoch 27/30\n",
      "12162/12162 [==============================] - 1s 44us/step - loss: 3.6112 - accuracy: 0.9841\n",
      "Epoch 28/30\n",
      "12162/12162 [==============================] - 1s 45us/step - loss: 2.5354 - accuracy: 0.9849\n",
      "Epoch 29/30\n",
      "12162/12162 [==============================] - 1s 43us/step - loss: 3.3776 - accuracy: 0.9883\n",
      "Epoch 30/30\n",
      "12162/12162 [==============================] - 1s 43us/step - loss: 1.9420 - accuracy: 0.9874\n",
      "Epoch 1/40\n",
      "12162/12162 [==============================] - 2s 154us/step - loss: 69.4412 - accuracy: 0.9281\n",
      "Epoch 2/40\n",
      "12162/12162 [==============================] - 1s 76us/step - loss: 59.9093 - accuracy: 0.9346\n",
      "Epoch 3/40\n",
      "12162/12162 [==============================] - 1s 64us/step - loss: 71.6595 - accuracy: 0.9433\n",
      "Epoch 4/40\n",
      "12162/12162 [==============================] - 1s 68us/step - loss: 46.6874 - accuracy: 0.9481\n",
      "Epoch 5/40\n",
      "12162/12162 [==============================] - 1s 64us/step - loss: 48.3943 - accuracy: 0.9538\n",
      "Epoch 6/40\n",
      "12162/12162 [==============================] - 1s 64us/step - loss: 29.6799 - accuracy: 0.9521\n",
      "Epoch 7/40\n",
      "12162/12162 [==============================] - 1s 66us/step - loss: 41.1906 - accuracy: 0.9554\n",
      "Epoch 8/40\n",
      "12162/12162 [==============================] - 1s 64us/step - loss: 35.4890 - accuracy: 0.9599\n",
      "Epoch 9/40\n",
      "12162/12162 [==============================] - 1s 63us/step - loss: 17.8201 - accuracy: 0.9629\n",
      "Epoch 10/40\n"
     ]
    },
    {
     "name": "stdout",
     "output_type": "stream",
     "text": [
      "12162/12162 [==============================] - 1s 64us/step - loss: 21.4442 - accuracy: 0.9642\n",
      "Epoch 11/40\n",
      "12162/12162 [==============================] - 1s 66us/step - loss: 19.8339 - accuracy: 0.9720\n",
      "Epoch 12/40\n",
      "12162/12162 [==============================] - 1s 68us/step - loss: 6.4477 - accuracy: 0.9682\n",
      "Epoch 13/40\n",
      "12162/12162 [==============================] - 1s 64us/step - loss: 16.4579 - accuracy: 0.9674\n",
      "Epoch 14/40\n",
      "12162/12162 [==============================] - 1s 65us/step - loss: 8.0797 - accuracy: 0.9693\n",
      "Epoch 15/40\n",
      "12162/12162 [==============================] - 1s 64us/step - loss: 9.6377 - accuracy: 0.9810\n",
      "Epoch 16/40\n",
      "12162/12162 [==============================] - 1s 63us/step - loss: 9.1111 - accuracy: 0.9813\n",
      "Epoch 17/40\n",
      "12162/12162 [==============================] - 1s 64us/step - loss: 7.5435 - accuracy: 0.9736\n",
      "Epoch 18/40\n",
      "12162/12162 [==============================] - 1s 76us/step - loss: 8.6922 - accuracy: 0.9797\n",
      "Epoch 19/40\n",
      "12162/12162 [==============================] - 1s 69us/step - loss: 5.8448 - accuracy: 0.9749\n",
      "Epoch 20/40\n",
      "12162/12162 [==============================] - 1s 64us/step - loss: 15.7197 - accuracy: 0.9776\n",
      "Epoch 21/40\n",
      "12162/12162 [==============================] - 1s 66us/step - loss: 10.4901 - accuracy: 0.9785\n",
      "Epoch 22/40\n",
      "12162/12162 [==============================] - 1s 64us/step - loss: 24.5477 - accuracy: 0.9745\n",
      "Epoch 23/40\n",
      "12162/12162 [==============================] - 1s 64us/step - loss: 9.2792 - accuracy: 0.9817\n",
      "Epoch 24/40\n",
      "12162/12162 [==============================] - 1s 66us/step - loss: 20.7057 - accuracy: 0.9868\n",
      "Epoch 25/40\n",
      "12162/12162 [==============================] - 1s 64us/step - loss: 12.4704 - accuracy: 0.9815\n",
      "Epoch 26/40\n",
      "12162/12162 [==============================] - 1s 65us/step - loss: 18.3539 - accuracy: 0.9822\n",
      "Epoch 27/40\n",
      "12162/12162 [==============================] - 1s 65us/step - loss: 3.6820 - accuracy: 0.9821\n",
      "Epoch 28/40\n",
      "12162/12162 [==============================] - 1s 63us/step - loss: 4.3943 - accuracy: 0.9828\n",
      "Epoch 29/40\n",
      "12162/12162 [==============================] - 1s 64us/step - loss: 11.7055 - accuracy: 0.9802\n",
      "Epoch 30/40\n",
      "12162/12162 [==============================] - 1s 64us/step - loss: 7.2299 - accuracy: 0.9827\n",
      "Epoch 31/40\n",
      "12162/12162 [==============================] - 1s 66us/step - loss: 2.7362 - accuracy: 0.9840\n",
      "Epoch 32/40\n",
      "12162/12162 [==============================] - 1s 64us/step - loss: 1.2161 - accuracy: 0.9865\n",
      "Epoch 33/40\n",
      "12162/12162 [==============================] - 1s 65us/step - loss: 1.7534 - accuracy: 0.9868\n",
      "Epoch 34/40\n",
      "12162/12162 [==============================] - 1s 68us/step - loss: 1.5213 - accuracy: 0.9871\n",
      "Epoch 35/40\n",
      "12162/12162 [==============================] - 1s 64us/step - loss: 3.1963 - accuracy: 0.9826\n",
      "Epoch 36/40\n",
      "12162/12162 [==============================] - 1s 64us/step - loss: 2.2717 - accuracy: 0.9896\n",
      "Epoch 37/40\n",
      "12162/12162 [==============================] - 1s 67us/step - loss: 1.7760 - accuracy: 0.9917\n",
      "Epoch 38/40\n",
      "12162/12162 [==============================] - 1s 64us/step - loss: 0.8175 - accuracy: 0.9928\n",
      "Epoch 39/40\n",
      "12162/12162 [==============================] - 1s 63us/step - loss: 1.4799 - accuracy: 0.9917\n",
      "Epoch 40/40\n",
      "12162/12162 [==============================] - 1s 64us/step - loss: 7.2959 - accuracy: 0.9883\n"
     ]
    }
   ],
   "source": [
    "########################################################################################################\n",
    "################ You can run this line if you want to retrain otherwise skip this line   ###############\n",
    "########################################################################################################\n",
    "hybrid_1=model_hybrid_1(x_train,y_train)\n",
    "hybrid_2=model_hybrid_2(x_train,y_train)\n",
    "hybrid_3=model_hybrid_3(x_train,y_train)\n",
    "gru=model_gru(x_train,y_train)\n",
    "biLSTM=model_biLSTM(x_train,y_train)"
   ]
  },
  {
   "cell_type": "code",
   "execution_count": 11,
   "metadata": {},
   "outputs": [
    {
     "name": "stdout",
     "output_type": "stream",
     "text": [
      ">loaded GRU\n",
      ">loaded BiLSTM\n",
      ">loaded HYBRID_1\n",
      ">loaded HYBRID_2\n",
      ">loaded HYBRID_3\n"
     ]
    }
   ],
   "source": [
    "gru=load_model('gru.h5')\n",
    "print('>loaded GRU')\n",
    "biLSTM=load_model('biLSTM.h5')\n",
    "print('>loaded BiLSTM')\n",
    "hybrid_1=load_model('hybrid_1.h5')\n",
    "print('>loaded HYBRID_1')\n",
    "hybrid_2=load_model('hybrid_2.h5')\n",
    "print('>loaded HYBRID_2')\n",
    "hybrid_3=load_model('hybrid_3.h5')\n",
    "print('>loaded HYBRID_3')"
   ]
  },
  {
   "cell_type": "code",
   "execution_count": 12,
   "metadata": {},
   "outputs": [],
   "source": [
    "def ensemble_predict(gru,biLSTM,hybrid_1,hybrid_2,hybrid_3, x_test):\n",
    "\t# make predictions\n",
    "\tyhats = [gru.predict(x_test.reshape(5001,1,42)),\n",
    "            biLSTM.predict(x_test.reshape(5001,1,42)),\n",
    "            hybrid_1.predict(x_test.reshape(5001,42,1)),\n",
    "            hybrid_2.predict(x_test.reshape(5001,42,1)),\n",
    "            hybrid_3.predict(x_test.reshape(5001,42,1))]\n",
    "\tyhats = array(yhats)\n",
    "\t# sum across ensemble members\n",
    "\tsummed = numpy.sum(yhats, axis=0)\n",
    "\t# argmax across classes\n",
    "\tresult = argmax(summed, axis=1)\n",
    "\treturn result"
   ]
  },
  {
   "cell_type": "code",
   "execution_count": 13,
   "metadata": {},
   "outputs": [],
   "source": [
    "res=ensemble_predict(gru,biLSTM,hybrid_1,hybrid_2,hybrid_3, x_test)"
   ]
  },
  {
   "cell_type": "code",
   "execution_count": 14,
   "metadata": {},
   "outputs": [],
   "source": [
    "tru=np.array([np.argmax(i) for i in data[3]])"
   ]
  },
  {
   "cell_type": "code",
   "execution_count": 15,
   "metadata": {},
   "outputs": [
    {
     "name": "stdout",
     "output_type": "stream",
     "text": [
      "Bagged Ensemble Accuracy :  0.9956008798240352\n"
     ]
    }
   ],
   "source": [
    "##########################################################\n",
    "#### ACCURACY OF OUR MODELS BAGGED    ###################\n",
    "#########################################################\n",
    "print(\"Bagged Ensemble Accuracy : \",accuracy_score(tru,res))"
   ]
  },
  {
   "cell_type": "code",
   "execution_count": 16,
   "metadata": {},
   "outputs": [],
   "source": [
    "##########################################################\n",
    "#### Individual ACCURACIES    ###################\n",
    "#########################################################"
   ]
  },
  {
   "cell_type": "code",
   "execution_count": 17,
   "metadata": {},
   "outputs": [
    {
     "name": "stdout",
     "output_type": "stream",
     "text": [
      "Bidirection LSTM accuracy :  0.9908018396320736\n"
     ]
    }
   ],
   "source": [
    "res_biLSTM=[np.argmax(i) for i in biLSTM.predict(x_test.reshape(5001,1,42))]\n",
    "print(\"Bidirection LSTM accuracy : \",accuracy_score(tru,res_biLSTM))"
   ]
  },
  {
   "cell_type": "code",
   "execution_count": 18,
   "metadata": {},
   "outputs": [
    {
     "name": "stdout",
     "output_type": "stream",
     "text": [
      "GRU accuracy :  0.9766046790641871\n"
     ]
    }
   ],
   "source": [
    "res_gru=[np.argmax(i) for i in gru.predict(x_test.reshape(5001,1,42))]\n",
    "print(\"GRU accuracy : \",accuracy_score(tru,res_gru))"
   ]
  },
  {
   "cell_type": "code",
   "execution_count": 19,
   "metadata": {},
   "outputs": [
    {
     "name": "stdout",
     "output_type": "stream",
     "text": [
      "HYBRID 1 accuracy :  0.9892021595680864\n"
     ]
    }
   ],
   "source": [
    "res_hyb1=[np.argmax(i) for i in hybrid_1.predict(x_test.reshape(5001,42,1))]\n",
    "print(\"HYBRID 1 accuracy : \",accuracy_score(tru,res_hyb1))"
   ]
  },
  {
   "cell_type": "code",
   "execution_count": 20,
   "metadata": {},
   "outputs": [
    {
     "name": "stdout",
     "output_type": "stream",
     "text": [
      "HYBRID 2 accuracy :  0.9922015596880623\n"
     ]
    }
   ],
   "source": [
    "res_hyb2=[np.argmax(i) for i in hybrid_2.predict(x_test.reshape(5001,42,1))]\n",
    "print(\"HYBRID 2 accuracy : \",accuracy_score(tru,res_hyb2))"
   ]
  },
  {
   "cell_type": "code",
   "execution_count": 21,
   "metadata": {},
   "outputs": [
    {
     "name": "stdout",
     "output_type": "stream",
     "text": [
      "HYBRID 3 accuracy :  0.991001799640072\n"
     ]
    }
   ],
   "source": [
    "res_hyb3=[np.argmax(i) for i in hybrid_3.predict(x_test.reshape(5001,42,1))]\n",
    "print(\"HYBRID 3 accuracy : \",accuracy_score(tru,res_hyb3))"
   ]
  },
  {
   "cell_type": "code",
   "execution_count": null,
   "metadata": {},
   "outputs": [],
   "source": []
  },
  {
   "cell_type": "code",
   "execution_count": null,
   "metadata": {},
   "outputs": [],
   "source": []
  }
 ],
 "metadata": {
  "kernelspec": {
   "display_name": "Python 3",
   "language": "python",
   "name": "python3"
  },
  "language_info": {
   "codemirror_mode": {
    "name": "ipython",
    "version": 3
   },
   "file_extension": ".py",
   "mimetype": "text/x-python",
   "name": "python",
   "nbconvert_exporter": "python",
   "pygments_lexer": "ipython3",
   "version": "3.7.6"
  }
 },
 "nbformat": 4,
 "nbformat_minor": 4
}
